{
 "cells": [
  {
   "cell_type": "code",
   "execution_count": 2,
   "metadata": {},
   "outputs": [],
   "source": [
    "import paths\n",
    "from utils import HARDCODED_CHIEFF_KNOTS, MSpline\n",
    "import numpy as np\n",
    "import matplotlib.pyplot as plt\n",
    "import deepdish as dd\n",
    "from glob import glob\n",
    "\n",
    "\n",
    "def load_chieff_ppd(filename):\n",
    "    with open(paths.data / filename, 'r') as datadict:\n",
    "        datadict = dd.io.load(paths.data / filename)\n",
    "    return datadict['m1s'], datadict['dRdm1'], datadict['qs'], datadict['dRdq'], \\\n",
    "        datadict['dRdchieff'], datadict['chieffs']\n",
    "\n",
    "\n",
    "def load_ind_compsin_ppd(filename):\n",
    "    with open(paths.data / filename, 'r') as datadict:\n",
    "        datadict = dd.io.load(paths.data / filename)\n",
    "    return datadict['m1s'], datadict['dRdm1'], datadict['qs'], datadict['dRdq'], \\\n",
    "        datadict['dRda1'], datadict['dRda2'], datadict['mags'], \\\n",
    "            datadict['dRdct1'], datadict['dRdct2'], datadict['tilts']\n",
    "\n",
    "\n",
    "def load_iid_compsin_ppd(filename):\n",
    "    with open(paths.data / filename, 'r') as datadict:\n",
    "        datadict = dd.io.load(paths.data / filename)\n",
    "    return datadict['m1s'], datadict['dRdm1'], datadict['qs'], datadict['dRdq'], \\\n",
    "        datadict['dRda'], datadict['mags'], datadict['dRdct'], datadict['tilts']\n",
    "        \n",
    "        \n",
    "def load_o3b_paper_run_masspdf(filename):\n",
    "    mass_1 = np.linspace(2, 100, 1000)\n",
    "    mass_ratio = np.linspace(0.1, 1, 500)\n",
    "    with open(paths.data / filename, 'r') as _data:\n",
    "        _data = dd.io.load(paths.data / filename)\n",
    "        marginals = _data[\"lines\"]\n",
    "    return marginals['mass_1'], marginals['mass_ratio'], mass_1, mass_ratio\n",
    "\n",
    "\n",
    "def load_o3b_paper_magpdf(filename):\n",
    "    xs = np.linspace(0, 1, 1000)\n",
    "    with open(paths.data / filename, 'r') as _data:\n",
    "        _data = dd.io.load(paths.data / filename)\n",
    "        marginals = _data[\"lines\"]\n",
    "    return marginals[\"a_1\"], marginals[\"a_2\"], xs\n",
    "\n",
    "\n",
    "def load_o3b_paper_tiltpdf(filename):\n",
    "    xs = np.linspace(-1, 1, 1000)\n",
    "    with open(paths.data / filename, 'r') as _data:\n",
    "        _data = dd.io.load(paths.data / filename)\n",
    "        marginals = _data[\"lines\"]\n",
    "    return marginals[\"cos_tilt_1\"], marginals[\"cos_tilt_2\"], xs\n",
    "\n",
    "\n",
    "def load_posterior(filename):\n",
    "    with open(paths.data / filename, 'r') as post:\n",
    "        post = dd.io.load(paths.data / filename)\n",
    "    return post"
   ]
  },
  {
   "cell_type": "code",
   "execution_count": 4,
   "metadata": {},
   "outputs": [
    {
     "ename": "SyntaxError",
     "evalue": "invalid syntax (3038394631.py, line 2)",
     "output_type": "error",
     "traceback": [
      "\u001b[0;36m  Input \u001b[0;32mIn [4]\u001b[0;36m\u001b[0m\n\u001b[0;31m    posterior_files = glob(paths.data / )\u001b[0m\n\u001b[0m                                        ^\u001b[0m\n\u001b[0;31mSyntaxError\u001b[0m\u001b[0;31m:\u001b[0m invalid syntax\n"
     ]
    }
   ],
   "source": [
    "ppd_files = glob(paths.data / \"*ppds.h5\")\n",
    "posterior_files = glob(paths.data / \"*samples.h5\")"
   ]
  },
  {
   "cell_type": "code",
   "execution_count": 3,
   "metadata": {},
   "outputs": [
    {
     "ename": "FileNotFoundError",
     "evalue": "[Errno 2] No such file or directory: '/media/bedelman/WorkSSD/projects/publications/CoveringYourBasis/src/data/mspline_60m1_14iid_compspins_powerlaw_q_z_ppds.h5'",
     "output_type": "error",
     "traceback": [
      "\u001b[0;31m---------------------------------------------------------------------------\u001b[0m",
      "\u001b[0;31mFileNotFoundError\u001b[0m                         Traceback (most recent call last)",
      "\u001b[1;32m/media/bedelman/WorkSSD/projects/publications/CoveringYourBasis/src/scripts/data_exploration.ipynb Cell 2\u001b[0m in \u001b[0;36m<cell line: 2>\u001b[0;34m()\u001b[0m\n\u001b[1;32m      <a href='vscode-notebook-cell:/media/bedelman/WorkSSD/projects/publications/CoveringYourBasis/src/scripts/data_exploration.ipynb#W1sZmlsZQ%3D%3D?line=0'>1</a>\u001b[0m ppd_fp \u001b[39m=\u001b[39m \u001b[39m'\u001b[39m\u001b[39mmspline_60m1_14iid_compspins_powerlaw_q_z_ppds.h5\u001b[39m\u001b[39m'\u001b[39m\n\u001b[0;32m----> <a href='vscode-notebook-cell:/media/bedelman/WorkSSD/projects/publications/CoveringYourBasis/src/scripts/data_exploration.ipynb#W1sZmlsZQ%3D%3D?line=1'>2</a>\u001b[0m m1s, dRdm1, qs, dRdq, dRda, mags, dRdct, tilts \u001b[39m=\u001b[39m load_iid_compsin_ppd(ppd_fp)\n\u001b[1;32m      <a href='vscode-notebook-cell:/media/bedelman/WorkSSD/projects/publications/CoveringYourBasis/src/scripts/data_exploration.ipynb#W1sZmlsZQ%3D%3D?line=3'>4</a>\u001b[0m dRdm1_o3b, dRdq_o3b, m1s_o3b, qs_o3b \u001b[39m=\u001b[39m load_o3b_paper_run_masspdf(\u001b[39m'\u001b[39m\u001b[39mo1o2o3_mass_c_iid_mag_iid_tilt_powerlaw_redshift_mass_data.h5\u001b[39m\u001b[39m'\u001b[39m)\n\u001b[1;32m      <a href='vscode-notebook-cell:/media/bedelman/WorkSSD/projects/publications/CoveringYourBasis/src/scripts/data_exploration.ipynb#W1sZmlsZQ%3D%3D?line=4'>5</a>\u001b[0m dRda1_o3b, dRda2_o3b, mags_o3b \u001b[39m=\u001b[39m load_o3b_paper_magpdf(\u001b[39m'\u001b[39m\u001b[39mo1o2o3_mass_c_iid_mag_iid_tilt_powerlaw_redshift_magnitude_data.h5\u001b[39m\u001b[39m'\u001b[39m)\n",
      "\u001b[1;32m/media/bedelman/WorkSSD/projects/publications/CoveringYourBasis/src/scripts/data_exploration.ipynb Cell 2\u001b[0m in \u001b[0;36mload_iid_compsin_ppd\u001b[0;34m(filename)\u001b[0m\n\u001b[1;32m      <a href='vscode-notebook-cell:/media/bedelman/WorkSSD/projects/publications/CoveringYourBasis/src/scripts/data_exploration.ipynb#W1sZmlsZQ%3D%3D?line=6'>7</a>\u001b[0m \u001b[39mdef\u001b[39;00m \u001b[39mload_iid_compsin_ppd\u001b[39m(filename):\n\u001b[0;32m----> <a href='vscode-notebook-cell:/media/bedelman/WorkSSD/projects/publications/CoveringYourBasis/src/scripts/data_exploration.ipynb#W1sZmlsZQ%3D%3D?line=7'>8</a>\u001b[0m     \u001b[39mwith\u001b[39;00m \u001b[39mopen\u001b[39;49m(paths\u001b[39m.\u001b[39;49mdata \u001b[39m/\u001b[39;49m filename, \u001b[39m'\u001b[39;49m\u001b[39mr\u001b[39;49m\u001b[39m'\u001b[39;49m) \u001b[39mas\u001b[39;00m datadict:\n\u001b[1;32m      <a href='vscode-notebook-cell:/media/bedelman/WorkSSD/projects/publications/CoveringYourBasis/src/scripts/data_exploration.ipynb#W1sZmlsZQ%3D%3D?line=8'>9</a>\u001b[0m         datadict \u001b[39m=\u001b[39m dd\u001b[39m.\u001b[39mio\u001b[39m.\u001b[39mload(paths\u001b[39m.\u001b[39mdata \u001b[39m/\u001b[39m filename)\n\u001b[1;32m     <a href='vscode-notebook-cell:/media/bedelman/WorkSSD/projects/publications/CoveringYourBasis/src/scripts/data_exploration.ipynb#W1sZmlsZQ%3D%3D?line=9'>10</a>\u001b[0m     \u001b[39mreturn\u001b[39;00m datadict[\u001b[39m'\u001b[39m\u001b[39mm1s\u001b[39m\u001b[39m'\u001b[39m], datadict[\u001b[39m'\u001b[39m\u001b[39mdRdm1\u001b[39m\u001b[39m'\u001b[39m], datadict[\u001b[39m'\u001b[39m\u001b[39mqs\u001b[39m\u001b[39m'\u001b[39m], datadict[\u001b[39m'\u001b[39m\u001b[39mdRdq\u001b[39m\u001b[39m'\u001b[39m], \\\n\u001b[1;32m     <a href='vscode-notebook-cell:/media/bedelman/WorkSSD/projects/publications/CoveringYourBasis/src/scripts/data_exploration.ipynb#W1sZmlsZQ%3D%3D?line=10'>11</a>\u001b[0m         datadict[\u001b[39m'\u001b[39m\u001b[39mdRda\u001b[39m\u001b[39m'\u001b[39m], datadict[\u001b[39m'\u001b[39m\u001b[39mmags\u001b[39m\u001b[39m'\u001b[39m], datadict[\u001b[39m'\u001b[39m\u001b[39mdRdct\u001b[39m\u001b[39m'\u001b[39m], datadict[\u001b[39m'\u001b[39m\u001b[39mtilts\u001b[39m\u001b[39m'\u001b[39m]\n",
      "\u001b[0;31mFileNotFoundError\u001b[0m: [Errno 2] No such file or directory: '/media/bedelman/WorkSSD/projects/publications/CoveringYourBasis/src/data/mspline_60m1_14iid_compspins_powerlaw_q_z_ppds.h5'"
     ]
    }
   ],
   "source": [
    "ppd_fp = 'mspline_60m1_14iid_compspins_powerlaw_q_z_ppds.h5'\n",
    "m1s, dRdm1, qs, dRdq, dRda, mags, dRdct, tilts = load_iid_compsin_ppd(ppd_fp)\n",
    "\n",
    "dRdm1_o3b, dRdq_o3b, m1s_o3b, qs_o3b = load_o3b_paper_run_masspdf('o1o2o3_mass_c_iid_mag_iid_tilt_powerlaw_redshift_mass_data.h5')\n",
    "dRda1_o3b, dRda2_o3b, mags_o3b = load_o3b_paper_magpdf('o1o2o3_mass_c_iid_mag_iid_tilt_powerlaw_redshift_magnitude_data.h5')\n",
    "dRdct1_o3b, dRdct2_o3b, tilts_o3b = load_o3b_paper_magpdf('o1o2o3_mass_c_iid_mag_iid_tilt_powerlaw_redshift_orientation_data.h5')"
   ]
  },
  {
   "cell_type": "code",
   "execution_count": null,
   "metadata": {},
   "outputs": [],
   "source": []
  }
 ],
 "metadata": {
  "kernelspec": {
   "display_name": "Python 3.9.12 ('gwheiro')",
   "language": "python",
   "name": "python3"
  },
  "language_info": {
   "codemirror_mode": {
    "name": "ipython",
    "version": 3
   },
   "file_extension": ".py",
   "mimetype": "text/x-python",
   "name": "python",
   "nbconvert_exporter": "python",
   "pygments_lexer": "ipython3",
   "version": "3.9.12"
  },
  "orig_nbformat": 4,
  "vscode": {
   "interpreter": {
    "hash": "1ea5ef4b602ca9a6f3ec8c1e9365e625d7cf1f73977fdd270221273c81d1f793"
   }
  }
 },
 "nbformat": 4,
 "nbformat_minor": 2
}
